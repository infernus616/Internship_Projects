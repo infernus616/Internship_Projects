{
 "cells": [
  {
   "cell_type": "code",
   "execution_count": 304,
   "metadata": {},
   "outputs": [],
   "source": [
    "import pychrome #in command line type - pip install pychrome\n",
    "import pandas as pd #pandas library\n",
    "import numpy as np\n",
    "from selenium import webdriver #pip install selenium\n",
    "from webdriver_manager.chrome import ChromeDriverManager #pip install webdriver-manager\n",
    "import time\n",
    "from selenium.webdriver.common.keys import Keys\n",
    "from selenium.common.exceptions import NoSuchElementException"
   ]
  },
  {
   "cell_type": "code",
   "execution_count": 305,
   "metadata": {},
   "outputs": [],
   "source": [
    "options = webdriver.ChromeOptions()\n",
    "options.add_argument(\"--remote-debugging-port=8000\")"
   ]
  },
  {
   "cell_type": "code",
   "execution_count": 306,
   "metadata": {},
   "outputs": [
    {
     "name": "stderr",
     "output_type": "stream",
     "text": [
      "[WDM] - Current google-chrome version is 84.0.4147\n",
      "[WDM] - Get LATEST driver version for 84.0.4147\n",
      "[WDM] - Driver [C:\\Users\\Madhav\\.wdm\\drivers\\chromedriver\\win32\\84.0.4147.30\\chromedriver.exe] found in cache\n"
     ]
    },
    {
     "name": "stdout",
     "output_type": "stream",
     "text": [
      " \n"
     ]
    },
    {
     "name": "stderr",
     "output_type": "stream",
     "text": [
      "c:\\users\\madhav\\anaconda3\\lib\\site-packages\\ipykernel_launcher.py:1: DeprecationWarning: use options instead of chrome_options\n",
      "  \"\"\"Entry point for launching an IPython kernel.\n"
     ]
    }
   ],
   "source": [
    "driver = webdriver.Chrome(ChromeDriverManager().install(), chrome_options=options)"
   ]
  },
  {
   "cell_type": "code",
   "execution_count": 307,
   "metadata": {},
   "outputs": [],
   "source": [
    "dev_tools = pychrome.Browser(url=\"http://localhost:8000\")"
   ]
  },
  {
   "cell_type": "code",
   "execution_count": 308,
   "metadata": {},
   "outputs": [],
   "source": [
    "tab = dev_tools.list_tab()[0]"
   ]
  },
  {
   "cell_type": "code",
   "execution_count": 309,
   "metadata": {},
   "outputs": [
    {
     "data": {
      "text/plain": [
       "True"
      ]
     },
     "execution_count": 309,
     "metadata": {},
     "output_type": "execute_result"
    }
   ],
   "source": [
    "tab.start()"
   ]
  },
  {
   "cell_type": "code",
   "execution_count": 310,
   "metadata": {},
   "outputs": [],
   "source": [
    "city_list = ['New Delhi','Hyderabad','Chennai','Mumbai','Kolkata','Bangalore']\n",
    "letters=['a','b','c','d','e','f','g','h','i','j','k','l','m','n','o','p','q','r','s','t','u','v','w','x','y','z']\n",
    "# letters = [\"क\",\"ख\",\"ग\",\"घ\",\"ड\",\"च\",\"छ\",\"ज\",\"झ\",\"ञ\",\"ट\",\"ठ\",\"ड\",\"ढ\",\"ण\",\"त\",\"थ\",\"द\",\"ध\",\"न\",\"प\",\"फ\",\"ब\",\"भ\",\"म\",\"य\",\"र\",\"ल\",\"व\",\"श\",\"ष\",\"स\",\"ह\",\"ष\",\"र\",\"ञ\",\"र\",\"क़\",\"ग़\",\"ख़\",\"ज़\",\"फ़\",\"ढ़\",\"ड़\"]"
   ]
  },
  {
   "cell_type": "code",
   "execution_count": 311,
   "metadata": {},
   "outputs": [],
   "source": [
    "df = pd.DataFrame(letters,columns=['Letter'])"
   ]
  },
  {
   "cell_type": "code",
   "execution_count": 312,
   "metadata": {},
   "outputs": [],
   "source": [
    "df['Word_1'] = np.empty(len(letters))\n",
    "df['Word_2'] = np.empty(len(letters))\n",
    "df['Word_3'] = np.empty(len(letters))\n",
    "df['Word_4'] = np.empty(len(letters))\n",
    "df['Word_5'] = np.empty(len(letters))\n",
    "df['Word_6'] = np.empty(len(letters))\n",
    "df['Word_7'] = np.empty(len(letters))\n",
    "df['Word_8'] = np.empty(len(letters))\n",
    "df['Word_9'] = np.empty(len(letters))\n",
    "df['Word_10'] = np.empty(len(letters))"
   ]
  },
  {
   "cell_type": "code",
   "execution_count": 313,
   "metadata": {},
   "outputs": [],
   "source": [
    "df.index = df['Letter']"
   ]
  },
  {
   "cell_type": "code",
   "execution_count": 314,
   "metadata": {},
   "outputs": [],
   "source": [
    "df.drop(['Letter'],axis=1,inplace=True)"
   ]
  },
  {
   "cell_type": "code",
   "execution_count": 315,
   "metadata": {},
   "outputs": [],
   "source": [
    "coordinates = pd.DataFrame(city_list,columns=['Cities'])"
   ]
  },
  {
   "cell_type": "code",
   "execution_count": 316,
   "metadata": {},
   "outputs": [],
   "source": [
    "latitude = [28.644800,17.387140,13.067439,19.076090,22.5499978,12.972442]"
   ]
  },
  {
   "cell_type": "code",
   "execution_count": 317,
   "metadata": {},
   "outputs": [],
   "source": [
    "longitude = [77.216721,78.491684,80.237617,72.877426,88.333332,77.580643]"
   ]
  },
  {
   "cell_type": "code",
   "execution_count": 318,
   "metadata": {},
   "outputs": [],
   "source": [
    "coordinates['Latitude'] = latitude\n",
    "coordinates['Longitude'] = longitude"
   ]
  },
  {
   "cell_type": "code",
   "execution_count": 319,
   "metadata": {},
   "outputs": [
    {
     "data": {
      "text/html": [
       "<div>\n",
       "<style scoped>\n",
       "    .dataframe tbody tr th:only-of-type {\n",
       "        vertical-align: middle;\n",
       "    }\n",
       "\n",
       "    .dataframe tbody tr th {\n",
       "        vertical-align: top;\n",
       "    }\n",
       "\n",
       "    .dataframe thead th {\n",
       "        text-align: right;\n",
       "    }\n",
       "</style>\n",
       "<table border=\"1\" class=\"dataframe\">\n",
       "  <thead>\n",
       "    <tr style=\"text-align: right;\">\n",
       "      <th></th>\n",
       "      <th>Cities</th>\n",
       "      <th>Latitude</th>\n",
       "      <th>Longitude</th>\n",
       "    </tr>\n",
       "  </thead>\n",
       "  <tbody>\n",
       "    <tr>\n",
       "      <th>0</th>\n",
       "      <td>New Delhi</td>\n",
       "      <td>28.644800</td>\n",
       "      <td>77.216721</td>\n",
       "    </tr>\n",
       "    <tr>\n",
       "      <th>1</th>\n",
       "      <td>Hyderabad</td>\n",
       "      <td>17.387140</td>\n",
       "      <td>78.491684</td>\n",
       "    </tr>\n",
       "    <tr>\n",
       "      <th>2</th>\n",
       "      <td>Chennai</td>\n",
       "      <td>13.067439</td>\n",
       "      <td>80.237617</td>\n",
       "    </tr>\n",
       "    <tr>\n",
       "      <th>3</th>\n",
       "      <td>Mumbai</td>\n",
       "      <td>19.076090</td>\n",
       "      <td>72.877426</td>\n",
       "    </tr>\n",
       "    <tr>\n",
       "      <th>4</th>\n",
       "      <td>Kolkata</td>\n",
       "      <td>22.549998</td>\n",
       "      <td>88.333332</td>\n",
       "    </tr>\n",
       "    <tr>\n",
       "      <th>5</th>\n",
       "      <td>Bangalore</td>\n",
       "      <td>12.972442</td>\n",
       "      <td>77.580643</td>\n",
       "    </tr>\n",
       "  </tbody>\n",
       "</table>\n",
       "</div>"
      ],
      "text/plain": [
       "      Cities   Latitude  Longitude\n",
       "0  New Delhi  28.644800  77.216721\n",
       "1  Hyderabad  17.387140  78.491684\n",
       "2    Chennai  13.067439  80.237617\n",
       "3     Mumbai  19.076090  72.877426\n",
       "4    Kolkata  22.549998  88.333332\n",
       "5  Bangalore  12.972442  77.580643"
      ]
     },
     "execution_count": 319,
     "metadata": {},
     "output_type": "execute_result"
    }
   ],
   "source": [
    "coordinates"
   ]
  },
  {
   "cell_type": "code",
   "execution_count": 320,
   "metadata": {},
   "outputs": [
    {
     "name": "stdout",
     "output_type": "stream",
     "text": [
      "                  Word_1             Word_2              Word_3  \\\n",
      "Letter                                                            \n",
      "क़                कोरोना   कारगिल विजय दिवस  कोरोना वायरस टिप्स   \n",
      "ग़                 ग़ज़ल    ग़ालिब की शायरी       ग़ालिब के शेर   \n",
      "ख़                   खेल      खुजली का इलाज      खतरा खतरा खतरा   \n",
      "ज़            ज़ से शब्द  ज़ी न्यूज़ समाचार      ज़िन्दगी शायरी   \n",
      "फ़      फ़ैज़ अहमद फ़ैज़         फ़ से शब्द      फ़िज़ा का अर्थ   \n",
      "\n",
      "                   Word_4                         Word_5           Word_6  \\\n",
      "Letter                                                                      \n",
      "क़              कृष्ण भजन            कृष्ण भगवान की आरती        कुंभ राशि   \n",
      "ग़      ग़दर एक प्रेम कथा                           None             None   \n",
      "ख़                 खरबूजा                           खजूर              खबर   \n",
      "ज़               ज़ी टीवी  ज़ी न्यूज़ बिहार झारखण्ड लाइव  ज़ी न्यूज़ लाइव   \n",
      "फ़               फ़िल्में      फ़ूड डिपार्टमेंट राजस्थान          फ़ेसबुक   \n",
      "\n",
      "                                            Word_7              Word_8  \\\n",
      "Letter                                                                   \n",
      "क़                             क्या तुम शर्मीली हो     कनकधारा स्तोत्र   \n",
      "ग़                                            None                None   \n",
      "ख़                              खजूर खाने के फायदे                खसखस   \n",
      "ज़                     ज़ी न्यूज़ लाइव टीवी वीडियो   ज़िन्दगी पर शायरी   \n",
      "फ़      फ़ीचर्स https //www.whatsapp.com/features/  फ़िरोज़ाबाद न्यूज़   \n",
      "\n",
      "                                           Word_9            Word_10  \n",
      "Letter                                                                \n",
      "क़                                            क्ष   क्रिकेट का स्कोर  \n",
      "ग़                                           None               None  \n",
      "ख़                                          खुजली  खूबसूरती पर शायरी  \n",
      "ज़                                      ज़ी अनमोल     ज़िंदगी की महक  \n",
      "फ़      फ़तेहपुरी, Chandni Chowk, New Delhi, Delhi  फरीदाबाद, Haryana  \n",
      "                  Word_1             Word_2              Word_3  \\\n",
      "Letter                                                            \n",
      "क़                कोरोना   कारगिल विजय दिवस  कोरोना वायरस टिप्स   \n",
      "ग़                 ग़ज़ल    ग़ालिब की शायरी       ग़ालिब के शेर   \n",
      "ख़                   खेल      खुजली का इलाज      खतरा खतरा खतरा   \n",
      "ज़            ज़ से शब्द  ज़ी न्यूज़ समाचार      ज़िन्दगी शायरी   \n",
      "फ़      फ़ैज़ अहमद फ़ैज़         फ़ से शब्द      फ़िज़ा का अर्थ   \n",
      "\n",
      "                   Word_4                         Word_5           Word_6  \\\n",
      "Letter                                                                      \n",
      "क़              कृष्ण भजन            कृष्ण भगवान की आरती        कुंभ राशि   \n",
      "ग़      ग़दर एक प्रेम कथा                           None             None   \n",
      "ख़                 खरबूजा                           खजूर              खबर   \n",
      "ज़               ज़ी टीवी  ज़ी न्यूज़ बिहार झारखण्ड लाइव  ज़ी न्यूज़ लाइव   \n",
      "फ़               फ़िल्में      फ़ूड डिपार्टमेंट राजस्थान          फ़ेसबुक   \n",
      "\n",
      "                                            Word_7              Word_8  \\\n",
      "Letter                                                                   \n",
      "क़                             क्या तुम शर्मीली हो     कनकधारा स्तोत्र   \n",
      "ग़                                            None                None   \n",
      "ख़                              खजूर खाने के फायदे                खसखस   \n",
      "ज़                     ज़ी न्यूज़ लाइव टीवी वीडियो   ज़िन्दगी पर शायरी   \n",
      "फ़      फ़ीचर्स https //www.whatsapp.com/features/  फ़िरोज़ाबाद न्यूज़   \n",
      "\n",
      "                                           Word_9            Word_10  \n",
      "Letter                                                                \n",
      "क़                                            क्ष   क्रिकेट का स्कोर  \n",
      "ग़                                           None               None  \n",
      "ख़                                          खुजली  खूबसूरती पर शायरी  \n",
      "ज़                                      ज़ी अनमोल     ज़िंदगी की महक  \n",
      "फ़      फ़तेहपुरी, Chandni Chowk, New Delhi, Delhi  फरीदाबाद, Haryana  \n",
      "                  Word_1             Word_2              Word_3  \\\n",
      "Letter                                                            \n",
      "क़                कोरोना   कारगिल विजय दिवस  कोरोना वायरस टिप्स   \n",
      "ग़                 ग़ज़ल    ग़ालिब की शायरी       ग़ालिब के शेर   \n",
      "ख़                   खेल      खुजली का इलाज      खतरा खतरा खतरा   \n",
      "ज़            ज़ से शब्द  ज़ी न्यूज़ समाचार      ज़िन्दगी शायरी   \n",
      "फ़      फ़ैज़ अहमद फ़ैज़         फ़ से शब्द      फ़िज़ा का अर्थ   \n",
      "\n",
      "                   Word_4                         Word_5           Word_6  \\\n",
      "Letter                                                                      \n",
      "क़              कृष्ण भजन            कृष्ण भगवान की आरती        कुंभ राशि   \n",
      "ग़      ग़दर एक प्रेम कथा                           None             None   \n",
      "ख़                 खरबूजा                           खजूर              खबर   \n",
      "ज़               ज़ी टीवी  ज़ी न्यूज़ बिहार झारखण्ड लाइव  ज़ी न्यूज़ लाइव   \n",
      "फ़               फ़िल्में      फ़ूड डिपार्टमेंट राजस्थान          फ़ेसबुक   \n",
      "\n",
      "                                            Word_7              Word_8  \\\n",
      "Letter                                                                   \n",
      "क़                             क्या तुम शर्मीली हो     कनकधारा स्तोत्र   \n",
      "ग़                                            None                None   \n",
      "ख़                              खजूर खाने के फायदे                खसखस   \n",
      "ज़                     ज़ी न्यूज़ लाइव टीवी वीडियो   ज़िन्दगी पर शायरी   \n",
      "फ़      फ़ीचर्स https //www.whatsapp.com/features/  फ़िरोज़ाबाद न्यूज़   \n",
      "\n",
      "                                           Word_9            Word_10  \n",
      "Letter                                                                \n",
      "क़                                            क्ष   क्रिकेट का स्कोर  \n",
      "ग़                                           None               None  \n",
      "ख़                                          खुजली  खूबसूरती पर शायरी  \n",
      "ज़                                      ज़ी अनमोल     ज़िंदगी की महक  \n",
      "फ़      फ़तेहपुरी, Chandni Chowk, New Delhi, Delhi  फरीदाबाद, Haryana  \n",
      "                  Word_1              Word_2          Word_3  \\\n",
      "Letter                                                         \n",
      "क़      कारगिल विजय दिवस  कोरोना वायरस टिप्स       कृष्ण भजन   \n",
      "ग़                 ग़ज़ल     ग़ालिब की शायरी   ग़ालिब के शेर   \n",
      "ख़                   खेल      खतरा खतरा खतरा          खरबूजा   \n",
      "ज़            ज़ से शब्द      ज़िन्दगी शायरी        ज़ी टीवी   \n",
      "फ़      फ़ैज़ अहमद फ़ैज़          फ़ से शब्द  फ़िज़ा का अर्थ   \n",
      "\n",
      "                               Word_4                     Word_5  \\\n",
      "Letter                                                             \n",
      "क़                कृष्ण भगवान की आरती        क्या तुम शर्मीली हो   \n",
      "ग़                  ग़दर एक प्रेम कथा                       None   \n",
      "ख़                               खजूर                        खबर   \n",
      "ज़      ज़ी न्यूज़ बिहार झारखण्ड लाइव          ज़ी न्यूज़ समाचार   \n",
      "फ़                           फ़िल्में  फ़ूड डिपार्टमेंट राजस्थान   \n",
      "\n",
      "                    Word_6                                      Word_7  \\\n",
      "Letter                                                                   \n",
      "क़                     क्ष                                     क्रिकेट   \n",
      "ग़                    None                                        None   \n",
      "ख़      खजूर खाने के फायदे                                        खसखस   \n",
      "ज़         ज़ी न्यूज़ लाइव                           ज़िन्दगी पर शायरी   \n",
      "फ़                 फ़ेसबुक  फ़ीचर्स https //www.whatsapp.com/features/   \n",
      "\n",
      "                    Word_8             Word_9                 Word_10  \n",
      "Letter                                                                 \n",
      "क़        क्रिकेट का स्कोर        क से ज्ञ तक                   कहानी  \n",
      "ग़                    None               None                    None  \n",
      "ख़                   खुजली  खूबसूरती पर शायरी           खजुराहो मंदिर  \n",
      "ज़               ज़ी अनमोल     ज़िंदगी की महक  ज़ी न्यूज़ लाइव दिखाइए  \n",
      "फ़      फ़िरोज़ाबाद न्यूज़   फ़ूड डिपार्टमेंट            फ़िल्मी गाने  \n",
      "                  Word_1              Word_2          Word_3  \\\n",
      "Letter                                                         \n",
      "क़      कारगिल विजय दिवस  कोरोना वायरस टिप्स       कृष्ण भजन   \n",
      "ग़                 ग़ज़ल     ग़ालिब की शायरी   ग़ालिब के शेर   \n",
      "ख़                   खेल      खतरा खतरा खतरा          खरबूजा   \n",
      "ज़            ज़ से शब्द      ज़िन्दगी शायरी        ज़ी टीवी   \n",
      "फ़      फ़ैज़ अहमद फ़ैज़          फ़ से शब्द  फ़िज़ा का अर्थ   \n",
      "\n",
      "                               Word_4                     Word_5  \\\n",
      "Letter                                                             \n",
      "क़                कृष्ण भगवान की आरती        क्या तुम शर्मीली हो   \n",
      "ग़                  ग़दर एक प्रेम कथा                       None   \n",
      "ख़                               खजूर                        खबर   \n",
      "ज़      ज़ी न्यूज़ बिहार झारखण्ड लाइव          ज़ी न्यूज़ समाचार   \n",
      "फ़                           फ़िल्में  फ़ूड डिपार्टमेंट राजस्थान   \n",
      "\n",
      "                    Word_6                                      Word_7  \\\n",
      "Letter                                                                   \n",
      "क़                     क्ष                                     क्रिकेट   \n",
      "ग़                    None                                        None   \n",
      "ख़      खजूर खाने के फायदे                                        खसखस   \n",
      "ज़         ज़ी न्यूज़ लाइव                           ज़िन्दगी पर शायरी   \n",
      "फ़                 फ़ेसबुक  फ़ीचर्स https //www.whatsapp.com/features/   \n",
      "\n",
      "                    Word_8             Word_9                 Word_10  \n",
      "Letter                                                                 \n",
      "क़        क्रिकेट का स्कोर        क से ज्ञ तक                   कहानी  \n",
      "ग़                    None               None                    None  \n",
      "ख़                   खुजली  खूबसूरती पर शायरी           खजुराहो मंदिर  \n",
      "ज़               ज़ी अनमोल     ज़िंदगी की महक  ज़ी न्यूज़ लाइव दिखाइए  \n",
      "फ़      फ़िरोज़ाबाद न्यूज़   फ़ूड डिपार्टमेंट            फ़िल्मी गाने  \n"
     ]
    },
    {
     "name": "stdout",
     "output_type": "stream",
     "text": [
      "                  Word_1              Word_2          Word_3  \\\n",
      "Letter                                                         \n",
      "क़      कारगिल विजय दिवस  कोरोना वायरस टिप्स       कृष्ण भजन   \n",
      "ग़                 ग़ज़ल     ग़ालिब की शायरी   ग़ालिब के शेर   \n",
      "ख़                   खेल      खतरा खतरा खतरा          खरबूजा   \n",
      "ज़            ज़ से शब्द      ज़िन्दगी शायरी        ज़ी टीवी   \n",
      "फ़      फ़ैज़ अहमद फ़ैज़          फ़ से शब्द  फ़िज़ा का अर्थ   \n",
      "\n",
      "                               Word_4                     Word_5  \\\n",
      "Letter                                                             \n",
      "क़                कृष्ण भगवान की आरती        क्या तुम शर्मीली हो   \n",
      "ग़                  ग़दर एक प्रेम कथा                       None   \n",
      "ख़                               खजूर                        खबर   \n",
      "ज़      ज़ी न्यूज़ बिहार झारखण्ड लाइव          ज़ी न्यूज़ समाचार   \n",
      "फ़                           फ़िल्में  फ़ूड डिपार्टमेंट राजस्थान   \n",
      "\n",
      "                    Word_6                                      Word_7  \\\n",
      "Letter                                                                   \n",
      "क़                     क्ष                                     क्रिकेट   \n",
      "ग़                    None                                        None   \n",
      "ख़      खजूर खाने के फायदे                                        खसखस   \n",
      "ज़         ज़ी न्यूज़ लाइव                           ज़िन्दगी पर शायरी   \n",
      "फ़                 फ़ेसबुक  फ़ीचर्स https //www.whatsapp.com/features/   \n",
      "\n",
      "                    Word_8             Word_9                 Word_10  \n",
      "Letter                                                                 \n",
      "क़        क्रिकेट का स्कोर        क से ज्ञ तक                   कहानी  \n",
      "ग़                    None               None                    None  \n",
      "ख़                   खुजली  खूबसूरती पर शायरी           खजुराहो मंदिर  \n",
      "ज़               ज़ी अनमोल     ज़िंदगी की महक  ज़ी न्यूज़ लाइव दिखाइए  \n",
      "फ़      फ़िरोज़ाबाद न्यूज़   फ़ूड डिपार्टमेंट            फ़िल्मी गाने  \n"
     ]
    },
    {
     "name": "stderr",
     "output_type": "stream",
     "text": [
      "websocket exception\n",
      "Traceback (most recent call last):\n",
      "  File \"c:\\users\\madhav\\anaconda3\\lib\\site-packages\\pychrome\\tab.py\", line 121, in _recv_loop\n",
      "    message_json = self._ws.recv()\n",
      "  File \"c:\\users\\madhav\\anaconda3\\lib\\site-packages\\websocket\\_core.py\", line 314, in recv\n",
      "    opcode, data = self.recv_data()\n",
      "  File \"c:\\users\\madhav\\anaconda3\\lib\\site-packages\\websocket\\_core.py\", line 331, in recv_data\n",
      "    opcode, frame = self.recv_data_frame(control_frame)\n",
      "  File \"c:\\users\\madhav\\anaconda3\\lib\\site-packages\\websocket\\_core.py\", line 344, in recv_data_frame\n",
      "    frame = self.recv_frame()\n",
      "  File \"c:\\users\\madhav\\anaconda3\\lib\\site-packages\\websocket\\_core.py\", line 378, in recv_frame\n",
      "    return self.frame_buffer.recv_frame()\n",
      "  File \"c:\\users\\madhav\\anaconda3\\lib\\site-packages\\websocket\\_abnf.py\", line 361, in recv_frame\n",
      "    self.recv_header()\n",
      "  File \"c:\\users\\madhav\\anaconda3\\lib\\site-packages\\websocket\\_abnf.py\", line 309, in recv_header\n",
      "    header = self.recv_strict(2)\n",
      "  File \"c:\\users\\madhav\\anaconda3\\lib\\site-packages\\websocket\\_abnf.py\", line 396, in recv_strict\n",
      "    bytes_ = self.recv(min(16384, shortage))\n",
      "  File \"c:\\users\\madhav\\anaconda3\\lib\\site-packages\\websocket\\_core.py\", line 453, in _recv\n",
      "    return recv(self.sock, bufsize)\n",
      "  File \"c:\\users\\madhav\\anaconda3\\lib\\site-packages\\websocket\\_socket.py\", line 115, in recv\n",
      "    \"Connection is already closed.\")\n",
      "websocket._exceptions.WebSocketConnectionClosedException: Connection is already closed.\n"
     ]
    }
   ],
   "source": [
    "for i in range(len(coordinates)):\n",
    "    df_copy = df.copy()\n",
    "    driver.get(\"https://www.google.co.in/search?q=a\")\n",
    "    time.sleep(3)\n",
    "    tab.call_method(\"Network.enable\", _timeout=20)\n",
    "    tab.call_method(\"Browser.grantPermissions\",permissions=['geolocation'])\n",
    "    tab.call_method(\"Emulation.setGeolocationOverride\",latitude=coordinates.iloc[i,1],longitude=coordinates.iloc[i,2]\n",
    "                    ,accuracy=100)\n",
    "    time.sleep(20)\n",
    "    bodyText = driver.find_element_by_tag_name('body').text\n",
    "    if 'Use precise location' in bodyText:\n",
    "        driver.find_element_by_xpath(\"//a[text()='Use precise location']\").click()\n",
    "    else:\n",
    "        driver.find_element_by_xpath(\"//a[text()='Update location']\").click()\n",
    "    time.sleep(3)\n",
    "    driver.get(\"https://www.google.co.in\")\n",
    "    time.sleep(2)\n",
    "    search_field = driver.find_element_by_name(\"q\")\n",
    "    for j in range(len(letters)):\n",
    "        search_field.send_keys(letters[j])\n",
    "        time.sleep(2)\n",
    "        for loop in range(1,11):\n",
    "            try:\n",
    "                li_items = driver.find_element_by_xpath('//*/ul/li[%d]/div/div[2]/div[1]' %(loop)).text\n",
    "                df_copy.iloc[j,loop-1] = li_items\n",
    "            except NoSuchElementException:\n",
    "                time.sleep(10)\n",
    "                try:\n",
    "                    li_items = driver.find_element_by_xpath('//*/ul/li[%d]/div/div[2]/div[1]' %(loop)).text\n",
    "                    df_copy.iloc[j,loop-1] = li_items\n",
    "                except NoSuchElementException:\n",
    "                    for inner_loop in range(loop-1,10):\n",
    "                        df_copy.iloc[j,inner_loop] = None\n",
    "                    break\n",
    "        driver.find_element_by_name(\"q\").clear()\n",
    "    file_name = \"trial_data/\" +str(coordinates.iloc[i,0])+\"_data.csv\"\n",
    "    df_copy.to_csv(file_name,index=['Letter'])"
   ]
  }
 ],
 "metadata": {
  "kernelspec": {
   "display_name": "Python 3",
   "language": "python",
   "name": "python3"
  },
  "language_info": {
   "codemirror_mode": {
    "name": "ipython",
    "version": 3
   },
   "file_extension": ".py",
   "mimetype": "text/x-python",
   "name": "python",
   "nbconvert_exporter": "python",
   "pygments_lexer": "ipython3",
   "version": "3.7.3"
  }
 },
 "nbformat": 4,
 "nbformat_minor": 4
}
